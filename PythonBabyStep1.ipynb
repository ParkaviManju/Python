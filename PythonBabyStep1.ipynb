{
 "cells": [
  {
   "cell_type": "code",
   "execution_count": 5,
   "id": "0d193452-7c09-42cf-a283-e95f6554e583",
   "metadata": {},
   "outputs": [
    {
     "name": "stdin",
     "output_type": "stream",
     "text": [
      "Num1 = 10\n",
      "Num2 = 30\n"
     ]
    },
    {
     "name": "stdout",
     "output_type": "stream",
     "text": [
      "add = 40\n"
     ]
    }
   ],
   "source": [
    "Num1 = int(input(\"Num1 =\"))\n",
    "Num2 = int(input(\"Num2 =\"))\n",
    "print(\"add =\",Num1 + Num2)\n"
   ]
  },
  {
   "cell_type": "code",
   "execution_count": 1,
   "id": "a7652b1b-fe53-4bbe-aa33-2645df5658c1",
   "metadata": {},
   "outputs": [
    {
     "name": "stdout",
     "output_type": "stream",
     "text": [
      "Welcome to Assignment-1\n"
     ]
    }
   ],
   "source": [
    "print(\"Welcome to Assignment-1\")"
   ]
  },
  {
   "cell_type": "code",
   "execution_count": 15,
   "id": "1aba1101-1ce1-4a9b-8017-7268b82ea185",
   "metadata": {},
   "outputs": [
    {
     "name": "stdin",
     "output_type": "stream",
     "text": [
      "Enter the BMI Index: 32.5\n"
     ]
    },
    {
     "name": "stdout",
     "output_type": "stream",
     "text": [
      "Obese Class I\n"
     ]
    }
   ],
   "source": [
    "BMI = float(input(\"Enter the BMI Index:\"))\n",
    "if((BMI > 16.5) and (BMI <= 18.5)):\n",
    "    print(\"Underweight\")\n",
    "elif((BMI > 18.5) and (BMI <= 25)):\n",
    "    print(\"Normal\")\n",
    "elif((BMI > 25) and (BMI <= 30)):\n",
    "    print(\"Over Weight\")\n",
    "elif((BMI > 30) and (BMI <= 35)):\n",
    "    print(\"Obese Class I\")\n",
    "elif((BMI > 35) and (BMI <= 40)):\n",
    "    print(\"Obese Class II\")\n",
    "elif((BMI > 40) and (BMI <= 45)):\n",
    "    print(\"Severely Obese\")\n",
    "elif((BMI > 45) and (BMI <= 50)):\n",
    "    print(\"Morbidly Obese\")\n",
    "elif((BMI > 50) and (BMI <= 60)):\n",
    "    print(\"Super Obese\")\n",
    "else:\n",
    "    print(\"Hyper Obese\")\n",
    "\n",
    "\n",
    "\n"
   ]
  },
  {
   "cell_type": "code",
   "execution_count": null,
   "id": "d4a44796-8807-43de-a709-79df2c96b449",
   "metadata": {},
   "outputs": [],
   "source": []
  }
 ],
 "metadata": {
  "kernelspec": {
   "display_name": "Python 3 (ipykernel)",
   "language": "python",
   "name": "python3"
  },
  "language_info": {
   "codemirror_mode": {
    "name": "ipython",
    "version": 3
   },
   "file_extension": ".py",
   "mimetype": "text/x-python",
   "name": "python",
   "nbconvert_exporter": "python",
   "pygments_lexer": "ipython3",
   "version": "3.12.4"
  }
 },
 "nbformat": 4,
 "nbformat_minor": 5
}
