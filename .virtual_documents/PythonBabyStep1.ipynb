Num1 = int(input("Num1 ="))
Num2 = int(input("Num2 ="))
print("add =",Num1 + Num2)



print("Welcome to Assignment-1")


BMI = float(input("Enter the BMI Index:"))
if((BMI > 16.5) and (BMI <= 18.5)):
    print("Underweight")
elif((BMI > 18.5) and (BMI <= 25)):
    print("Normal")
elif((BMI > 25) and (BMI <= 30)):
    print("Over Weight")
elif((BMI > 30) and (BMI <= 35)):
    print("Obese Class I")
elif((BMI > 35) and (BMI <= 40)):
    print("Obese Class II")
elif((BMI > 40) and (BMI <= 45)):
    print("Severely Obese")
elif((BMI > 45) and (BMI <= 50)):
    print("Morbidly Obese")
elif((BMI > 50) and (BMI <= 60)):
    print("Super Obese")
else:
    print("Hyper Obese")







