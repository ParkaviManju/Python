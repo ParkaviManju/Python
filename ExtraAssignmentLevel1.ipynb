{
 "cells": [
  {
   "cell_type": "raw",
   "id": "93786728-2335-491f-bec7-1881e602dd78",
   "metadata": {},
   "source": []
  },
  {
   "cell_type": "code",
   "execution_count": 1,
   "id": "6c75253a-c1d1-4aec-bd27-f72a99c31383",
   "metadata": {},
   "outputs": [
    {
     "name": "stdout",
     "output_type": "stream",
     "text": [
      "Hope AI\n"
     ]
    }
   ],
   "source": [
    "print(\"Hope AI\")"
   ]
  },
  {
   "cell_type": "code",
   "execution_count": 7,
   "id": "9e2ea7c9-4082-45e4-9185-256df6b671ae",
   "metadata": {},
   "outputs": [
    {
     "name": "stdin",
     "output_type": "stream",
     "text": [
      "Enter your name : manju\n",
      "Enter your age : 25\n",
      "Enter your school name : S.V\n",
      "Enter your degree : M.E\n"
     ]
    },
    {
     "name": "stdout",
     "output_type": "stream",
     "text": [
      "Name manju\n",
      "Age 25\n",
      "school Name S.V\n",
      "degree M.E\n"
     ]
    }
   ],
   "source": [
    "name = input(\"Enter your name :\")\n",
    "age = int(input(\"Enter your age :\"))\n",
    "school_Name = input(\"Enter your school name :\")\n",
    "degree = input(\"Enter your degree :\")\n",
    "print(\"Name\", name)\n",
    "print(\"Age\", age)\n",
    "print(\"school Name\", school_Name)\n",
    "print(\"degree\", degree)"
   ]
  },
  {
   "cell_type": "code",
   "execution_count": 8,
   "id": "7d8c4491-a9f6-4a49-851e-e588b525426a",
   "metadata": {},
   "outputs": [
    {
     "name": "stdin",
     "output_type": "stream",
     "text": [
      "Enter num1: 34\n",
      "Enter num2: 43\n"
     ]
    },
    {
     "name": "stdout",
     "output_type": "stream",
     "text": [
      "add 77\n"
     ]
    }
   ],
   "source": [
    "num1 = int(input(\"Enter num1:\"))\n",
    "num2 = int(input(\"Enter num2:\"))\n",
    "print(\"add\", num1+num2)\n"
   ]
  },
  {
   "cell_type": "code",
   "execution_count": 10,
   "id": "9f350483-7b6a-4581-8c5c-da19b151c5ea",
   "metadata": {},
   "outputs": [
    {
     "name": "stdin",
     "output_type": "stream",
     "text": [
      "Enter num1: 43\n",
      "Enter num2: 34\n"
     ]
    },
    {
     "name": "stdout",
     "output_type": "stream",
     "text": [
      "sub 9\n"
     ]
    }
   ],
   "source": [
    "num1 = int(input(\"Enter num1:\"))\n",
    "num2 = int(input(\"Enter num2:\"))\n",
    "print(\"sub\", num1-num2)\n"
   ]
  },
  {
   "cell_type": "code",
   "execution_count": 11,
   "id": "fe0201c4-acd3-4f05-8643-2112792fb105",
   "metadata": {},
   "outputs": [
    {
     "name": "stdin",
     "output_type": "stream",
     "text": [
      "Enter num1: 63\n",
      "Enter num2: 97\n"
     ]
    },
    {
     "name": "stdout",
     "output_type": "stream",
     "text": [
      "mul 6111\n"
     ]
    }
   ],
   "source": [
    "num1 = int(input(\"Enter num1:\"))\n",
    "num2 = int(input(\"Enter num2:\"))\n",
    "print(\"mul\", num1*num2)\n"
   ]
  },
  {
   "cell_type": "code",
   "execution_count": 12,
   "id": "ba47728b-f4e4-4cb5-8051-d34eed1b0a10",
   "metadata": {},
   "outputs": [
    {
     "name": "stdin",
     "output_type": "stream",
     "text": [
      "Enter num1: 76\n",
      "Enter num2: 31\n"
     ]
    },
    {
     "name": "stdout",
     "output_type": "stream",
     "text": [
      "div 2.4516129032258065\n"
     ]
    }
   ],
   "source": [
    "num1 = int(input(\"Enter num1:\"))\n",
    "num2 = int(input(\"Enter num2:\"))\n",
    "print(\"div\", num1/num2)\n"
   ]
  },
  {
   "cell_type": "code",
   "execution_count": 13,
   "id": "f71eb194-4a58-4178-b9c8-57d1a3d1b60a",
   "metadata": {},
   "outputs": [
    {
     "name": "stdin",
     "output_type": "stream",
     "text": [
      "Enter num1: 76\n",
      "Enter num2: 31\n"
     ]
    },
    {
     "name": "stdout",
     "output_type": "stream",
     "text": [
      "floor div 2\n"
     ]
    }
   ],
   "source": [
    "num1 = int(input(\"Enter num1:\"))\n",
    "num2 = int(input(\"Enter num2:\"))\n",
    "print(\"floor div\", num1//num2)\n"
   ]
  },
  {
   "cell_type": "code",
   "execution_count": 14,
   "id": "10acb8e7-6292-4124-975e-e4989287374f",
   "metadata": {},
   "outputs": [
    {
     "name": "stdin",
     "output_type": "stream",
     "text": [
      "Enter num1: 76\n",
      "Enter num2: 31\n"
     ]
    },
    {
     "name": "stdout",
     "output_type": "stream",
     "text": [
      "modulo 14\n"
     ]
    }
   ],
   "source": [
    "num1 = int(input(\"Enter num1:\"))\n",
    "num2 = int(input(\"Enter num2:\"))\n",
    "print(\"modulo\", num1%num2)\n"
   ]
  },
  {
   "cell_type": "code",
   "execution_count": 16,
   "id": "57dd359b-29cc-4bda-a358-4173d2d7f02f",
   "metadata": {},
   "outputs": [
    {
     "name": "stdin",
     "output_type": "stream",
     "text": [
      "Enter num1: 4\n",
      "Enter num2: 4\n"
     ]
    },
    {
     "name": "stdout",
     "output_type": "stream",
     "text": [
      "Power 256\n"
     ]
    }
   ],
   "source": [
    "num1 = int(input(\"Enter num1:\"))\n",
    "num2 = int(input(\"Enter num2:\"))\n",
    "print(\"Power\", num1**num2)\n"
   ]
  },
  {
   "cell_type": "code",
   "execution_count": null,
   "id": "1bbea6dd-9824-4d81-9307-a573819a9f0c",
   "metadata": {},
   "outputs": [],
   "source": []
  }
 ],
 "metadata": {
  "kernelspec": {
   "display_name": "Python 3 (ipykernel)",
   "language": "python",
   "name": "python3"
  },
  "language_info": {
   "codemirror_mode": {
    "name": "ipython",
    "version": 3
   },
   "file_extension": ".py",
   "mimetype": "text/x-python",
   "name": "python",
   "nbconvert_exporter": "python",
   "pygments_lexer": "ipython3",
   "version": "3.12.4"
  }
 },
 "nbformat": 4,
 "nbformat_minor": 5
}
