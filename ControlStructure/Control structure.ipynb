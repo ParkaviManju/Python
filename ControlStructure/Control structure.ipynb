{
 "cells": [
  {
   "cell_type": "code",
   "execution_count": 1,
   "id": "f5c81729-9800-425d-a609-194816b66599",
   "metadata": {},
   "outputs": [
    {
     "name": "stdin",
     "output_type": "stream",
     "text": [
      "Enter age: 16\n"
     ]
    },
    {
     "name": "stdout",
     "output_type": "stream",
     "text": [
      "not adult\n"
     ]
    }
   ],
   "source": [
    "# age=int(input(\"Enter age:\"))\n",
    "# if(age>=18):\n",
    "#     print(\"adult\")\n",
    "# else:\n",
    "#     print(\"not adult\")"
   ]
  },
  {
   "cell_type": "code",
   "execution_count": 4,
   "id": "71024b52-582c-431c-84dd-506b9d59bf0f",
   "metadata": {},
   "outputs": [
    {
     "name": "stdin",
     "output_type": "stream",
     "text": [
      "Enter age: 18\n"
     ]
    },
    {
     "name": "stdout",
     "output_type": "stream",
     "text": [
      "Adult\n"
     ]
    }
   ],
   "source": [
    "# age=int(input(\"Enter age:\"))\n",
    "# if(age<18):\n",
    "#     print(\"Children\")\n",
    "# else:\n",
    "#     print(\"Adult\")"
   ]
  },
  {
   "cell_type": "code",
   "execution_count": 10,
   "id": "fe290f32-60c5-4cda-b958-38a49f2abf38",
   "metadata": {},
   "outputs": [
    {
     "name": "stdin",
     "output_type": "stream",
     "text": [
      "Enter age: 58\n"
     ]
    },
    {
     "name": "stdout",
     "output_type": "stream",
     "text": [
      "Citizen\n"
     ]
    }
   ],
   "source": [
    "# age=int(input(\"Enter age:\"))\n",
    "# if(age<18):\n",
    "#     print(\"Children\")\n",
    "# elif(age<35):\n",
    "#     print(\"Adult\")\n",
    "# elif(age<59):\n",
    "#     print(\"Citizen\")\n",
    "# else:\n",
    "#     print(\"Senior Citizen\")"
   ]
  },
  {
   "cell_type": "code",
   "execution_count": 12,
   "id": "a22b06ef-49dd-40ee-850d-00168699bfd2",
   "metadata": {},
   "outputs": [
    {
     "name": "stdout",
     "output_type": "stream",
     "text": [
      "2 even\n",
      "3 odd\n",
      "5 odd\n",
      "6 even\n",
      "8 even\n",
      "9 odd\n"
     ]
    }
   ],
   "source": [
    "num=[2,3,5,6,8,9]\n",
    "for check in num:\n",
    "    if((check%2)==0):\n",
    "        print(check,\"even\")\n",
    "    else:\n",
    "        print(check,\"odd\")"
   ]
  },
  {
   "cell_type": "code",
   "execution_count": null,
   "id": "01648a8c-407b-4c5f-8a58-9d872083d88c",
   "metadata": {},
   "outputs": [],
   "source": []
  },
  {
   "cell_type": "code",
   "execution_count": null,
   "id": "5efaac8f-5b33-4872-895c-2abeef2c517a",
   "metadata": {},
   "outputs": [],
   "source": []
  }
 ],
 "metadata": {
  "kernelspec": {
   "display_name": "Python 3 (ipykernel)",
   "language": "python",
   "name": "python3"
  },
  "language_info": {
   "codemirror_mode": {
    "name": "ipython",
    "version": 3
   },
   "file_extension": ".py",
   "mimetype": "text/x-python",
   "name": "python",
   "nbconvert_exporter": "python",
   "pygments_lexer": "ipython3",
   "version": "3.12.4"
  }
 },
 "nbformat": 4,
 "nbformat_minor": 5
}
