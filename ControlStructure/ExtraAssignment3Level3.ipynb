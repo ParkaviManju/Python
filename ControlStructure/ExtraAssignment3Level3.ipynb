{
 "cells": [
  {
   "cell_type": "code",
   "execution_count": 1,
   "id": "ba0d2ef7-ca75-430a-a710-7db0167a6bc6",
   "metadata": {},
   "outputs": [
    {
     "name": "stdin",
     "output_type": "stream",
     "text": [
      " 10\n"
     ]
    },
    {
     "name": "stdout",
     "output_type": "stream",
     "text": [
      "Value: 10 \n",
      "Correct\n"
     ]
    }
   ],
   "source": [
    "i=int(input())\n",
    "if i==10:\n",
    "    print(\"Value:\",i,\"\\nCorrect\")"
   ]
  },
  {
   "cell_type": "code",
   "execution_count": 3,
   "id": "38cd1b24-0298-4137-8743-33c8a78f9e55",
   "metadata": {},
   "outputs": [
    {
     "name": "stdin",
     "output_type": "stream",
     "text": [
      "Enter Password: HOPE@123\n"
     ]
    },
    {
     "name": "stdout",
     "output_type": "stream",
     "text": [
      "Password is Correct\n"
     ]
    }
   ],
   "source": [
    "i=input(\"Enter Password:\")\n",
    "pwd = \"HOPE@123\"\n",
    "if(i.__eq__(pwd)):\n",
    "    print(\"Password is Correct\")"
   ]
  },
  {
   "cell_type": "code",
   "execution_count": 5,
   "id": "805be33a-5a47-469d-ae06-a7d3ec2a59e7",
   "metadata": {},
   "outputs": [
    {
     "name": "stdin",
     "output_type": "stream",
     "text": [
      "Enter any number: -1\n"
     ]
    },
    {
     "name": "stdout",
     "output_type": "stream",
     "text": [
      "-1 Number is Negative\n"
     ]
    }
   ],
   "source": [
    "i=int(input(\"Enter any number:\"))\n",
    "if(i<0):\n",
    "    print(i, \"Number is Negative\")\n",
    "else:\n",
    "    print(i, \"Number is Positive\")\n",
    "\n",
    "    \n"
   ]
  },
  {
   "cell_type": "code",
   "execution_count": 7,
   "id": "8b7259e6-fc30-4fb0-8bd7-8e800e2c9763",
   "metadata": {},
   "outputs": [
    {
     "name": "stdin",
     "output_type": "stream",
     "text": [
      "Enter any number: 5\n"
     ]
    },
    {
     "name": "stdout",
     "output_type": "stream",
     "text": [
      "5 Number is divisible by 5\n"
     ]
    }
   ],
   "source": [
    "i=int(input(\"Enter any number:\"))\n",
    "if(i%5 == 0):\n",
    "    print(i, \"Number is divisible by 5\")\n",
    "else:\n",
    "    print(i, \"Number isn't divisible by 5\")\n"
   ]
  },
  {
   "cell_type": "code",
   "execution_count": null,
   "id": "59c35444-df06-4701-aac1-154d922fadd1",
   "metadata": {},
   "outputs": [],
   "source": []
  }
 ],
 "metadata": {
  "kernelspec": {
   "display_name": "Python 3 (ipykernel)",
   "language": "python",
   "name": "python3"
  },
  "language_info": {
   "codemirror_mode": {
    "name": "ipython",
    "version": 3
   },
   "file_extension": ".py",
   "mimetype": "text/x-python",
   "name": "python",
   "nbconvert_exporter": "python",
   "pygments_lexer": "ipython3",
   "version": "3.12.4"
  }
 },
 "nbformat": 4,
 "nbformat_minor": 5
}
