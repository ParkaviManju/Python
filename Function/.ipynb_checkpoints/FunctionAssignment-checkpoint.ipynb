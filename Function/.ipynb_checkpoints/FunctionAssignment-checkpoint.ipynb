{
 "cells": [
  {
   "cell_type": "code",
   "execution_count": 54,
   "id": "6121e23c-2b5e-4464-a575-e7512bc7ec86",
   "metadata": {},
   "outputs": [],
   "source": [
    "def subFields():\n",
    "    AI = [\"Machine Learning\", \"Neural Networks\", \"Vision\", \"Robotics\", \"Speech Processing\", \"Natural Language Processing\"]\n",
    "    print(\"Sub-fields in AI are:\")\n",
    "    for i in AI:\n",
    "        print(i)\n",
    "   "
   ]
  },
  {
   "cell_type": "code",
   "execution_count": 55,
   "id": "5c33a26e-4642-42af-b753-fbfd89a927b2",
   "metadata": {},
   "outputs": [
    {
     "name": "stdout",
     "output_type": "stream",
     "text": [
      "Sub-fields in AI are:\n",
      "Machine Learning\n",
      "Neural Networks\n",
      "Vision\n",
      "Robotics\n",
      "Speech Processing\n",
      "Natural Language Processing\n"
     ]
    }
   ],
   "source": [
    "subFields()"
   ]
  },
  {
   "cell_type": "code",
   "execution_count": 17,
   "id": "1b4e2ddb-dc4a-4765-8104-c7bd2e653f88",
   "metadata": {},
   "outputs": [],
   "source": [
    "def OddEven(num):\n",
    "    if(num%2 == 0):\n",
    "         message = num,\": is Even number\"\n",
    "    else:\n",
    "        message = num,\": is odd Number\"\n",
    "    return message\n"
   ]
  },
  {
   "cell_type": "code",
   "execution_count": 18,
   "id": "1c6a3e19-a266-4bbb-b39e-3d21d6ab3096",
   "metadata": {},
   "outputs": [
    {
     "data": {
      "text/plain": [
       "(7, ': is odd Number')"
      ]
     },
     "execution_count": 18,
     "metadata": {},
     "output_type": "execute_result"
    }
   ],
   "source": [
    "OddEven(7)"
   ]
  },
  {
   "cell_type": "code",
   "execution_count": 32,
   "id": "92b0c278-8d04-4689-aa12-aa89765e64d0",
   "metadata": {},
   "outputs": [],
   "source": [
    "def eliglible():\n",
    "    Gender = input(\"Enter Gender:\")\n",
    "    Age = int(input(\"Enter Age:\"))\n",
    "    if(Gender == \"Male\" and Age <= 18):\n",
    "        message = \"Not Eligible\"\n",
    "    elif(Gender == \"Male\" and Age > 18):\n",
    "        message = \"Eligible\"\n",
    "    elif(Gender == \"Female\" and Age <= 18):\n",
    "        message = \"Not Eligible\"\n",
    "    elif(Gender == \"Female\" and Age > 18):\n",
    "        message = \"Eligible\"   \n",
    "    return message\n",
    "        "
   ]
  },
  {
   "cell_type": "code",
   "execution_count": 33,
   "id": "68293248-4f36-4c55-b01c-59cecab5c24b",
   "metadata": {},
   "outputs": [
    {
     "name": "stdin",
     "output_type": "stream",
     "text": [
      "Enter Gender: Female\n",
      "Enter Age: 18\n"
     ]
    },
    {
     "data": {
      "text/plain": [
       "'Not Eligible'"
      ]
     },
     "execution_count": 33,
     "metadata": {},
     "output_type": "execute_result"
    }
   ],
   "source": [
    "eliglible()"
   ]
  },
  {
   "cell_type": "code",
   "execution_count": 39,
   "id": "577b22c1-a1f7-4022-8603-a011a0a57085",
   "metadata": {},
   "outputs": [],
   "source": [
    "def percentage():\n",
    "    Subject1 = int(input(\"Subject1:\"))\n",
    "    Subject2 = int(input(\"Subject2:\"))\n",
    "    Subject3 = int(input(\"Subject3:\"))\n",
    "    Subject4 = int(input(\"Subject4:\"))\n",
    "    Subject5 = int(input(\"Subject5:\"))\n",
    "    Total = Subject1 + Subject2 + Subject3 + Subject4 + Subject5\n",
    "    print(\"Total :\",Total)\n",
    "    print(\"Percentage :\", Total/5)"
   ]
  },
  {
   "cell_type": "code",
   "execution_count": 40,
   "id": "4f983c68-ff73-4348-94d7-ca8cc6a8d56a",
   "metadata": {},
   "outputs": [
    {
     "name": "stdin",
     "output_type": "stream",
     "text": [
      "Subject1: 23\n",
      "Subject2: 32\n",
      "Subject3: 45\n",
      "Subject4: 34\n",
      "Subject5: 22\n"
     ]
    },
    {
     "name": "stdout",
     "output_type": "stream",
     "text": [
      "Total : 156\n",
      "Percentage : 31.2\n"
     ]
    }
   ],
   "source": [
    "percentage()"
   ]
  },
  {
   "cell_type": "code",
   "execution_count": 46,
   "id": "653e6331-4a65-461d-961d-a119378f8758",
   "metadata": {},
   "outputs": [],
   "source": [
    "def triangle():\n",
    "    Height = int(input(\"Enter height:\"))\n",
    "    Breadth = int(input(\"Enter Breadth:\"))\n",
    "    print(\"Area Formula = (Height * Breadth)/2\")\n",
    "    print(\"Area of Triangle\" ,(Height * Breadth)/2)\n",
    "    Height1 = int(input(\"Enter height1:\"))\n",
    "    Height2 = int(input(\"Enter height2:\"))\n",
    "    Breadth1 = int(input(\"Enter Breadth1:\"))\n",
    "    print(\"Perimeter Formula = Height1 + Height2 + Breadth1\")\n",
    "    print(\"Perimeter of Triangle:\", Height1 + Height2 + Breadth1)\n",
    "\n",
    "    "
   ]
  },
  {
   "cell_type": "code",
   "execution_count": 47,
   "id": "c44055a0-fa75-421e-b20b-04329e99d68b",
   "metadata": {},
   "outputs": [
    {
     "name": "stdin",
     "output_type": "stream",
     "text": [
      "Enter height: 3\n",
      "Enter Breadth: 4\n"
     ]
    },
    {
     "name": "stdout",
     "output_type": "stream",
     "text": [
      "Area Formula = (Height * Breadth)/2\n",
      "Area of Triangle 6.0\n"
     ]
    },
    {
     "name": "stdin",
     "output_type": "stream",
     "text": [
      "Enter height1: 3\n",
      "Enter height2: 5\n",
      "Enter Breadth1: 6\n"
     ]
    },
    {
     "name": "stdout",
     "output_type": "stream",
     "text": [
      "Perimeter Formula = Height1 + Height2 + Breadth1\n",
      "Perimeter of Triangle: 14\n"
     ]
    }
   ],
   "source": [
    "triangle()"
   ]
  },
  {
   "cell_type": "code",
   "execution_count": null,
   "id": "4284175f-9089-4d10-85a3-1be2526865a1",
   "metadata": {},
   "outputs": [],
   "source": []
  }
 ],
 "metadata": {
  "kernelspec": {
   "display_name": "Python 3 (ipykernel)",
   "language": "python",
   "name": "python3"
  },
  "language_info": {
   "codemirror_mode": {
    "name": "ipython",
    "version": 3
   },
   "file_extension": ".py",
   "mimetype": "text/x-python",
   "name": "python",
   "nbconvert_exporter": "python",
   "pygments_lexer": "ipython3",
   "version": "3.12.4"
  }
 },
 "nbformat": 4,
 "nbformat_minor": 5
}
