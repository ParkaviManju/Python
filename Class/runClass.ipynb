{
 "cells": [
  {
   "cell_type": "code",
   "execution_count": 3,
   "id": "4c4658f2-a307-431b-bc07-78ad83a3fb06",
   "metadata": {},
   "outputs": [
    {
     "ename": "ModuleNotFoundError",
     "evalue": "No module named 'classAssignment'",
     "output_type": "error",
     "traceback": [
      "\u001b[1;31m---------------------------------------------------------------------------\u001b[0m",
      "\u001b[1;31mModuleNotFoundError\u001b[0m                       Traceback (most recent call last)",
      "Cell \u001b[1;32mIn[3], line 1\u001b[0m\n\u001b[1;32m----> 1\u001b[0m \u001b[38;5;28;01mimport\u001b[39;00m \u001b[38;5;21;01mclassAssignment\u001b[39;00m\n\u001b[0;32m      2\u001b[0m \u001b[38;5;28;01mfrom\u001b[39;00m \u001b[38;5;21;01mclassAssignment\u001b[39;00m \u001b[38;5;28;01mimport\u001b[39;00m SubfieldsinAI\n",
      "\u001b[1;31mModuleNotFoundError\u001b[0m: No module named 'classAssignment'"
     ]
    }
   ],
   "source": [
    "from classAssignment import SubfieldsinAI\n"
   ]
  },
  {
   "cell_type": "code",
   "execution_count": null,
   "id": "c31f752a-71e9-4302-8276-ac1199efde80",
   "metadata": {},
   "outputs": [],
   "source": []
  }
 ],
 "metadata": {
  "kernelspec": {
   "display_name": "Python 3 (ipykernel)",
   "language": "python",
   "name": "python3"
  },
  "language_info": {
   "codemirror_mode": {
    "name": "ipython",
    "version": 3
   },
   "file_extension": ".py",
   "mimetype": "text/x-python",
   "name": "python",
   "nbconvert_exporter": "python",
   "pygments_lexer": "ipython3",
   "version": "3.12.4"
  }
 },
 "nbformat": 4,
 "nbformat_minor": 5
}
