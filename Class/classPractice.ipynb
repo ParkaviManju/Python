{
 "cells": [
  {
   "cell_type": "code",
   "execution_count": 2,
   "id": "18643dc6-43b6-447a-b1ee-4b6d88f44071",
   "metadata": {},
   "outputs": [],
   "source": [
    "from userDefinedLibrary import practice"
   ]
  },
  {
   "cell_type": "code",
   "execution_count": 3,
   "id": "e45dd371-fc44-4e3b-ac36-0610d9a07087",
   "metadata": {},
   "outputs": [
    {
     "name": "stdout",
     "output_type": "stream",
     "text": [
      "Sub-fields in AI are:\n",
      "Machine Learning\n",
      "Neural Networks\n",
      "Vision\n",
      "Robotics\n",
      "Speech Processing\n",
      "Natural Language Processing\n"
     ]
    }
   ],
   "source": [
    "practice.subFields()"
   ]
  },
  {
   "cell_type": "code",
   "execution_count": 4,
   "id": "9f3811a6-002e-4831-a069-f8c131691830",
   "metadata": {},
   "outputs": [
    {
     "data": {
      "text/plain": [
       "(5, ': is odd Number')"
      ]
     },
     "execution_count": 4,
     "metadata": {},
     "output_type": "execute_result"
    }
   ],
   "source": [
    "practice.OddEven(5)"
   ]
  },
  {
   "cell_type": "code",
   "execution_count": 5,
   "id": "fcb0dfcf-9b6e-4952-987a-a56b2b6df96d",
   "metadata": {},
   "outputs": [
    {
     "name": "stdin",
     "output_type": "stream",
     "text": [
      "Enter Gender: Male\n",
      "Enter Age: 25\n"
     ]
    },
    {
     "data": {
      "text/plain": [
       "'Eligible'"
      ]
     },
     "execution_count": 5,
     "metadata": {},
     "output_type": "execute_result"
    }
   ],
   "source": [
    "practice.eliglible()"
   ]
  },
  {
   "cell_type": "code",
   "execution_count": 6,
   "id": "3b5ac05e-ac8e-45d8-8548-baf7957302bc",
   "metadata": {},
   "outputs": [
    {
     "name": "stdin",
     "output_type": "stream",
     "text": [
      "Subject1: 34\n",
      "Subject2: 45\n",
      "Subject3: 78\n",
      "Subject4: 90\n",
      "Subject5: 87\n"
     ]
    },
    {
     "name": "stdout",
     "output_type": "stream",
     "text": [
      "Total : 334\n",
      "Percentage : 66.8\n"
     ]
    }
   ],
   "source": [
    "practice.percentage()"
   ]
  },
  {
   "cell_type": "code",
   "execution_count": 7,
   "id": "7739fd58-55c1-44dd-a38c-f0ed9e50e4ec",
   "metadata": {},
   "outputs": [
    {
     "name": "stdin",
     "output_type": "stream",
     "text": [
      "Enter height: 3\n",
      "Enter Breadth: 5\n"
     ]
    },
    {
     "name": "stdout",
     "output_type": "stream",
     "text": [
      "Area Formula = (Height * Breadth)/2\n",
      "Area of Triangle 7.5\n"
     ]
    },
    {
     "name": "stdin",
     "output_type": "stream",
     "text": [
      "Enter height1: 6\n",
      "Enter height2: 4\n",
      "Enter Breadth1: 7\n"
     ]
    },
    {
     "name": "stdout",
     "output_type": "stream",
     "text": [
      "Perimeter Formula = Height1 + Height2 + Breadth1\n",
      "Perimeter of Triangle: 17\n"
     ]
    }
   ],
   "source": [
    "practice.triangle()\n"
   ]
  },
  {
   "cell_type": "code",
   "execution_count": null,
   "id": "6f680516-3c60-4b8e-b243-c0cae6163d44",
   "metadata": {},
   "outputs": [],
   "source": []
  }
 ],
 "metadata": {
  "kernelspec": {
   "display_name": "Python 3 (ipykernel)",
   "language": "python",
   "name": "python3"
  },
  "language_info": {
   "codemirror_mode": {
    "name": "ipython",
    "version": 3
   },
   "file_extension": ".py",
   "mimetype": "text/x-python",
   "name": "python",
   "nbconvert_exporter": "python",
   "pygments_lexer": "ipython3",
   "version": "3.12.4"
  }
 },
 "nbformat": 4,
 "nbformat_minor": 5
}
