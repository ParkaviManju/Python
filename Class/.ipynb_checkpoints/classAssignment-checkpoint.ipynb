{
 "cells": [
  {
   "cell_type": "code",
   "execution_count": 2,
   "id": "00185262-8d4d-4abb-aa83-fdae6998c5b0",
   "metadata": {},
   "outputs": [],
   "source": [
    "class SubfieldsinAI():\n",
    "    def subFields():\n",
    "        AI = [\"Machine Learning\", \"Neural Networks\", \"Vision\", \"Robotics\", \"Speech Processing\", \"Natural Language Processing\"]\n",
    "        print(\"Sub-fields in AI are:\")\n",
    "        for i in AI:\n",
    "            print(i)"
   ]
  },
  {
   "cell_type": "code",
   "execution_count": 3,
   "id": "bc5fd5ea-26e2-4f47-a590-4a61db76d532",
   "metadata": {},
   "outputs": [
    {
     "name": "stdout",
     "output_type": "stream",
     "text": [
      "Sub-fields in AI are:\n",
      "Machine Learning\n",
      "Neural Networks\n",
      "Vision\n",
      "Robotics\n",
      "Speech Processing\n",
      "Natural Language Processing\n"
     ]
    }
   ],
   "source": [
    "SubfieldsinAI.subFields()"
   ]
  },
  {
   "cell_type": "code",
   "execution_count": null,
   "id": "02890e92-05ae-4061-804d-f5db64eb4d5c",
   "metadata": {},
   "outputs": [],
   "source": []
  }
 ],
 "metadata": {
  "kernelspec": {
   "display_name": "Python 3 (ipykernel)",
   "language": "python",
   "name": "python3"
  },
  "language_info": {
   "codemirror_mode": {
    "name": "ipython",
    "version": 3
   },
   "file_extension": ".py",
   "mimetype": "text/x-python",
   "name": "python",
   "nbconvert_exporter": "python",
   "pygments_lexer": "ipython3",
   "version": "3.12.4"
  }
 },
 "nbformat": 4,
 "nbformat_minor": 5
}
